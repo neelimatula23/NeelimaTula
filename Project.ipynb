{
  "nbformat": 4,
  "nbformat_minor": 0,
  "metadata": {
    "colab": {
      "provenance": [],
      "authorship_tag": "ABX9TyOKyMiWrmsW3KosSPo7CFpU",
      "include_colab_link": true
    },
    "kernelspec": {
      "name": "python3",
      "display_name": "Python 3"
    },
    "language_info": {
      "name": "python"
    }
  },
  "cells": [
    {
      "cell_type": "markdown",
      "metadata": {
        "id": "view-in-github",
        "colab_type": "text"
      },
      "source": [
        "<a href=\"https://colab.research.google.com/github/neelimatula23/NeelimaTula/blob/main/Project.ipynb\" target=\"_parent\"><img src=\"https://colab.research.google.com/assets/colab-badge.svg\" alt=\"Open In Colab\"/></a>"
      ]
    },
    {
      "cell_type": "code",
      "source": [
        "import requests\n",
        "import json\n",
        "import csv\n",
        "import os\n",
        "\n",
        "def fetch_weather_data(api_key, locations, units=\"metric\", output_filename=\"weather_data.json\"):\n",
        "    base_url = \"https://api.openweathermap.org/data/2.5/weather\"\n",
        "    weather_data = []\n",
        "\n",
        "    for location in locations:\n",
        "        params = {\"q\": location, \"appid\": api_key, \"units\": units}\n",
        "        response = requests.get(base_url, params=params)\n",
        "        if response.status_code == 200:\n",
        "            weather_data.append(response.json())\n",
        "\n",
        "    with open(output_filename, 'w') as json_file:\n",
        "        json.dump(weather_data, json_file, indent=4)\n",
        "\n",
        "    return weather_data\n",
        "\n",
        "def parse_json_to_csv(input_filename, output_filename):\n",
        "    with open(input_filename, 'r') as json_file:\n",
        "        weather_data = json.load(json_file)\n",
        "\n",
        "    headers = [\"City\", \"Temperature\", \"Humidity\", \"Weather Description\"]\n",
        "\n",
        "    with open(output_filename, 'w', newline='') as csv_file:\n",
        "        writer = csv.writer(csv_file)\n",
        "        writer.writerow(headers)\n",
        "\n",
        "        for data in weather_data:\n",
        "            writer.writerow([\n",
        "                data[\"name\"],\n",
        "                data[\"main\"][\"temp\"],\n",
        "                data[\"main\"][\"humidity\"],\n",
        "                data[\"weather\"][0][\"description\"]\n",
        "            ])\n",
        "\n",
        "if __name__ == \"__main__\":\n",
        "    API_KEY = os.getenv(\"OPENWEATHER_API_KEY\", \"a7e7f5287a69c6d3ae045210b3d6bb41\")\n",
        "    LOCATIONS = [\"London\", \"New York\",\"India\"]\n",
        "    UNITS = \"metrics\"\n",
        "    JSON_FILE = \"JSON_weather.json\"\n",
        "    CSV_FILE = \"CSV_weather.csv\"\n",
        "\n",
        "    weather_data = fetch_weather_data(API_KEY, LOCATIONS, UNITS, JSON_FILE)\n",
        "    parse_json_to_csv(JSON_FILE, CSV_FILE)"
      ],
      "metadata": {
        "id": "_Ay_QkZpN8GW"
      },
      "execution_count": 60,
      "outputs": []
    }
  ]
}